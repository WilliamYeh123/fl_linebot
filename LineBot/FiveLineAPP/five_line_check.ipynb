{
 "cells": [
  {
   "cell_type": "code",
   "execution_count": 58,
   "id": "6df8177c",
   "metadata": {},
   "outputs": [],
   "source": [
    "import yfinance as yf\n",
    "import os\n",
    "from pathlib import Path\n",
    "import datetime\n",
    "import pandas as pd\n",
    "import numpy as np\n",
    "import datetime,time,re\n",
    "from sklearn.linear_model import LinearRegression\n",
    "import requests\n",
    "from bs4 import BeautifulSoup"
   ]
  },
  {
   "cell_type": "code",
   "execution_count": 42,
   "id": "3f5ebbea",
   "metadata": {},
   "outputs": [],
   "source": [
    "today = datetime.date.today()\n",
    "end = today - datetime.timedelta(days=1)\n",
    "start = end - datetime.timedelta(days=365*3.5)\n",
    "\n",
    "etf1 = ['0050','0051','0056', '00850', '006205', '00645', '00646', '00662', '00631L', '00632R', '00633L', '00634R', '008201', '00635U', '00642U', '00673R', '00674R']"
   ]
  },
  {
   "cell_type": "code",
   "execution_count": 43,
   "id": "032fff43",
   "metadata": {},
   "outputs": [],
   "source": [
    "def five_line(data):   \n",
    "    timetrend = list(range(1, data.shape[0]+1))\n",
    "    data['timetrend'] = timetrend\n",
    "    data = data[['timetrend','Close']]\n",
    "    data = data.dropna()\n",
    "    reg = LinearRegression()\n",
    "    x = data['timetrend'].to_frame()\n",
    "    y = data['Close'].to_frame()\n",
    "    reg.fit(x,y)\n",
    "    \n",
    "    a = reg.intercept_ #截距\n",
    "    beta = reg.coef_ #斜率\n",
    "    #print(beta)\n",
    "    #beta = beta[0][0]\n",
    "    #print(beta)\n",
    "    longtrend = a + beta*x\n",
    "    res = np.array(list(data['Close'])) - np.array(list(longtrend['timetrend']))\n",
    "    std = np.std(res,ddof=1)\n",
    "    fiveline = pd.DataFrame()\n",
    "    fiveline['highest'] = longtrend['timetrend'] + (2*std)\n",
    "    fiveline['high'] = longtrend['timetrend'] + (1*std)\n",
    "    fiveline['TL'] = longtrend['timetrend']\n",
    "    fiveline['low'] = longtrend['timetrend'] - (1*std)\n",
    "    fiveline['lowest'] = longtrend['timetrend'] - (2*std) \n",
    "    use_fiveline = pd.merge(data, fiveline[['highest','high','TL','low','lowest']], left_index=True, right_index=True, how='left')\n",
    "    pick_fiveline = use_fiveline[['Close','highest','high','TL','low','lowest']]\n",
    "    return pick_fiveline,beta\n"
   ]
  },
  {
   "cell_type": "code",
   "execution_count": 51,
   "id": "1b2ba1a8",
   "metadata": {},
   "outputs": [],
   "source": [
    "def stock_price(stock:str):\n",
    "    headers={\n",
    "        \"User-Agent\":\"Mozilla/5.0 (Windows NT 6.1; WOW64) AppleWebKit/537.36 (KHTML, like Gecko) Chrome/65.0.3325.146 Safari/537.36\"\n",
    "    }\n",
    "\n",
    "    data = requests.get(f\"https://finance.yahoo.com/quote/{stock}.TW?p={stock}.TW\", headers = headers)\n",
    "    soup = BeautifulSoup(data.text)\n",
    "    price = soup.find('fin-streamer',{'class':'Fw(b) Fz(36px) Mb(-4px) D(ib)'})\n",
    "    return price.text"
   ]
  },
  {
   "cell_type": "code",
   "execution_count": 59,
   "id": "55ab1a69",
   "metadata": {},
   "outputs": [
    {
     "name": "stdout",
     "output_type": "stream",
     "text": [
      "[*********************100%***********************]  1 of 1 completed\n",
      "[*********************100%***********************]  1 of 1 completed\n",
      "[*********************100%***********************]  1 of 1 completed\n",
      "[*********************100%***********************]  1 of 1 completed\n",
      "[*********************100%***********************]  1 of 1 completed\n",
      "[*********************100%***********************]  1 of 1 completed\n",
      "[*********************100%***********************]  1 of 1 completed\n",
      "[*********************100%***********************]  1 of 1 completed\n",
      "[*********************100%***********************]  1 of 1 completed\n",
      "[*********************100%***********************]  1 of 1 completed\n",
      "[*********************100%***********************]  1 of 1 completed\n",
      "[*********************100%***********************]  1 of 1 completed\n",
      "[*********************100%***********************]  1 of 1 completed\n",
      "[*********************100%***********************]  1 of 1 completed\n",
      "[*********************100%***********************]  1 of 1 completed\n",
      "[*********************100%***********************]  1 of 1 completed\n",
      "[*********************100%***********************]  1 of 1 completed\n"
     ]
    },
    {
     "data": {
      "text/plain": [
       "'00631L.TW低於悲觀線，股票價格 : 120.80，可買進'"
      ]
     },
     "execution_count": 59,
     "metadata": {},
     "output_type": "execute_result"
    }
   ],
   "source": [
    "etf_data = {}\n",
    "slope = []\n",
    "reply = ''\n",
    "def fiveline(etf_id):\n",
    "    if etf_id == 1:\n",
    "        ETF_list = etf1\n",
    "        \n",
    "    for i in ETF_list:\n",
    "        df = yf.download(f\"{i}.TW\", start = str(start), end = str(end))\n",
    "        df2,beta = five_line(df)\n",
    "        #a = copy.deepcopy(beta[0][0])\n",
    "        #print(beta)\n",
    "        beta = beta.tolist()\n",
    "        #print(beta)\n",
    "        beta = beta[0][0]\n",
    "        #print(beta)\n",
    "        slope.append((i,beta))\n",
    "        #print(slope)\n",
    "        etf_data[i] = df2\n",
    "        \n",
    "    #print(slope)\n",
    "    slope.sort(key = lambda s: s[1])\n",
    "    slope.reverse()\n",
    "    #print(slope)\n",
    "    #print(etf_data)\n",
    "        \n",
    "    #print(total_data)\n",
    "    #print(total_data[0][1][0])\n",
    "    \n",
    "    \n",
    "    for i in slope:\n",
    "        temp_data = etf_data[i[0]]\n",
    "        price = stock_price(i[0])\n",
    "        #print(temp_data)\n",
    "        if temp_data.iat[-1,-6] < temp_data.iat[-1,-2]:\n",
    "            reply = i[0]+'.TW低於悲觀線，股票價格 : '+price+'，可買進'\n",
    "            return reply\n",
    "        else:continue\n",
    "    return 'none'\n",
    "fiveline(1)"
   ]
  },
  {
   "cell_type": "code",
   "execution_count": null,
   "id": "d581ec13",
   "metadata": {},
   "outputs": [],
   "source": []
  }
 ],
 "metadata": {
  "kernelspec": {
   "display_name": "fl",
   "language": "python",
   "name": "fl"
  },
  "language_info": {
   "codemirror_mode": {
    "name": "ipython",
    "version": 3
   },
   "file_extension": ".py",
   "mimetype": "text/x-python",
   "name": "python",
   "nbconvert_exporter": "python",
   "pygments_lexer": "ipython3",
   "version": "3.7.13"
  }
 },
 "nbformat": 4,
 "nbformat_minor": 5
}
